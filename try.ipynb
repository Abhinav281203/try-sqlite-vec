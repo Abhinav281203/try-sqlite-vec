{
 "cells": [
  {
   "cell_type": "markdown",
   "metadata": {},
   "source": [
    "## Using Virtual Tables"
   ]
  },
  {
   "cell_type": "code",
   "execution_count": 1,
   "metadata": {},
   "outputs": [],
   "source": [
    "import sqlite3\n",
    "import sqlite_vec\n",
    "\n",
    "db_path = \"/Users/abhinav/Desktop/shit/virtual_tables.db\"\n",
    "db = sqlite3.connect(db_path)\n",
    "db.enable_load_extension(True)\n",
    "sqlite_vec.load(db)\n",
    "db.enable_load_extension(False)\n"
   ]
  },
  {
   "cell_type": "code",
   "execution_count": 2,
   "metadata": {},
   "outputs": [
    {
     "data": {
      "text/plain": [
       "<sqlite3.Cursor at 0x106774bc0>"
      ]
     },
     "execution_count": 2,
     "metadata": {},
     "output_type": "execute_result"
    }
   ],
   "source": [
    "# Create table without any embeddings column\n",
    "# Create virtual tables for storing embeddings with vec0\n",
    "db.execute(\n",
    "    \"\"\"\n",
    "    CREATE TABLE goods (\n",
    "        row_id INT PRIMARY KEY,\n",
    "        Schedule VARCHAR(10),\n",
    "        Serial_No INT,\n",
    "        Chapter_Heading_Subheading_Tariff_Item TEXT,\n",
    "        Description_of_Goods TEXT,\n",
    "        CGST_Rate DECIMAL(5, 2),\n",
    "        SGST_UTGST_Rate DECIMAL(5, 2),\n",
    "        IGST_Rate DECIMAL(5, 2),\n",
    "        Compensation_Cess VARCHAR(10)\n",
    "    );\n",
    "    \"\"\"\n",
    ")"
   ]
  },
  {
   "cell_type": "code",
   "execution_count": 3,
   "metadata": {},
   "outputs": [],
   "source": [
    "import pandas as pd\n",
    "from models import Row\n",
    "\n",
    "df = pd.read_excel(\"/Users/abhinav/Desktop/shit/data/goods.xlsx\")\n",
    "df = df.where(pd.notnull(df), None)\n",
    "\n",
    "# Iterate through all the rows and convert them into Rows\n",
    "# Each row is considered as a tuple\n",
    "rows = []\n",
    "for row in df.itertuples(name=None):\n",
    "    row = list(row)\n",
    "    row[0] += 1\n",
    "    if row[4] is None or row[4] == \"\":\n",
    "        row[4] = \"N/A\"\n",
    "    rows.append(Row(values=row))"
   ]
  },
  {
   "cell_type": "code",
   "execution_count": 4,
   "metadata": {},
   "outputs": [],
   "source": [
    "from indexer import SQLiteVecIndexer\n",
    "\n",
    "indexer = SQLiteVecIndexer(db_path, using_virtual_table=True)\n",
    "indexer.insert_rows(rows)"
   ]
  },
  {
   "cell_type": "code",
   "execution_count": 3,
   "metadata": {},
   "outputs": [
    {
     "name": "stdout",
     "output_type": "stream",
     "text": [
      "(33, 'I', '30A', '0804', 'Mangoes sliced, dried', '2.5%', '2.5%', '5%', None)\n",
      "(1670, 'Nil rate', '57A', '0813', 'Tamarind dried', 0, 0, 0, None)\n",
      "(353, 'II', 16, '0804', 'Dates (soft or hard), figs, pineapples, avocados, guavas ,mangoes (other than mangoes sliced, dried) and mangosteens, dried.', '6%', '6%', '12%', None)\n",
      "(1663, 'Nil rate', 51, '0804', 'Dates, figs, pineapples, avocados, guavas, mangoes and  mangosteens, fresh.', 0, 0, 0, None)\n",
      "(355, 'II', 17, '0813', 'Fruit, dried, other than that of headings 0801 to 0806; mixtures of nuts or dried  fruits of Chapter 8 [other than dried tamarind and dried chestnut (singhada)  whether or not shelled or peeled', '6%', '6%', '12%', None)\n"
     ]
    }
   ],
   "source": [
    "from retriever import SQLiteVecRetriever\n",
    "\n",
    "query = \"dried mango slice\"\n",
    "retriever = SQLiteVecRetriever(db_path=db_path, using_virtual_table=True)\n",
    "results = retriever.retrieve(query, limit=5)\n",
    "for i in results:\n",
    "    print(i)"
   ]
  },
  {
   "cell_type": "markdown",
   "metadata": {},
   "source": [
    "## Using Normal Tables (Manually)"
   ]
  },
  {
   "cell_type": "code",
   "execution_count": 4,
   "metadata": {},
   "outputs": [],
   "source": [
    "import sqlite3\n",
    "import sqlite_vec\n",
    "\n",
    "db_path = \"/Users/abhinav/Desktop/shit/normal_tables.db\"\n",
    "db = sqlite3.connect(db_path)\n",
    "db.enable_load_extension(True)\n",
    "sqlite_vec.load(db)\n",
    "db.enable_load_extension(False)"
   ]
  },
  {
   "cell_type": "code",
   "execution_count": 5,
   "metadata": {},
   "outputs": [
    {
     "data": {
      "text/plain": [
       "<sqlite3.Cursor at 0x1180cd740>"
      ]
     },
     "execution_count": 5,
     "metadata": {},
     "output_type": "execute_result"
    }
   ],
   "source": [
    "# Create table with embeddings column of type BLOB to store embeddings\n",
    "db.execute(\n",
    "    \"\"\"\n",
    "    CREATE TABLE goods (\n",
    "        row_id INT PRIMARY KEY,\n",
    "        Schedule VARCHAR(10),\n",
    "        Serial_No INT,\n",
    "        Chapter_Heading_Subheading_Tariff_Item TEXT,\n",
    "        Description_of_Goods TEXT,\n",
    "        CGST_Rate DECIMAL(5, 2),\n",
    "        SGST_UTGST_Rate DECIMAL(5, 2),\n",
    "        IGST_Rate DECIMAL(5, 2),\n",
    "        Compensation_Cess VARCHAR(10),\n",
    "        embeddings float[1536]\n",
    "        check(\n",
    "            typeof(embeddings) == 'blob'\n",
    "            and vec_length(embeddings) == 1536\n",
    "        )\n",
    "    );\n",
    "    \"\"\"\n",
    ")"
   ]
  },
  {
   "cell_type": "code",
   "execution_count": 6,
   "metadata": {},
   "outputs": [],
   "source": [
    "import pandas as pd\n",
    "from models import Row\n",
    "\n",
    "df = pd.read_excel(\"/Users/abhinav/Desktop/shit/data/goods.xlsx\")\n",
    "df = df.where(pd.notnull(df), None)\n",
    "\n",
    "# Iterate through all the rows and convert them into Rows\n",
    "# Each row is considered as a tuple\n",
    "rows = []\n",
    "for row in df.itertuples(name=None):\n",
    "    row = list(row)\n",
    "    row[0] += 1\n",
    "    if row[4] is None or row[4] == \"\":\n",
    "        row[4] = \"N/A\"\n",
    "    rows.append(Row(values=row))"
   ]
  },
  {
   "cell_type": "code",
   "execution_count": 7,
   "metadata": {},
   "outputs": [],
   "source": [
    "from indexer import SQLiteVecIndexer\n",
    "\n",
    "indexer = SQLiteVecIndexer(db_path, using_virtual_table=False)\n",
    "indexer.insert_rows(rows)"
   ]
  },
  {
   "cell_type": "code",
   "execution_count": 8,
   "metadata": {},
   "outputs": [
    {
     "name": "stdout",
     "output_type": "stream",
     "text": [
      "(33, 'I', '30A', '0804', 'Mangoes sliced, dried', '2.5%', '2.5%', '5%', None)\n",
      "(1670, 'Nil rate', '57A', '0813', 'Tamarind dried', 0, 0, 0, None)\n",
      "(353, 'II', 16, '0804', 'Dates (soft or hard), figs, pineapples, avocados, guavas ,mangoes (other than mangoes sliced, dried) and mangosteens, dried.', '6%', '6%', '12%', None)\n"
     ]
    }
   ],
   "source": [
    "from retriever import SQLiteVecRetriever\n",
    "\n",
    "query = \"dried mango slices\"\n",
    "retriever = SQLiteVecRetriever(db_path, using_virtual_table=False)\n",
    "results = retriever.retrieve(query)\n",
    "for i in results:\n",
    "    print(i)"
   ]
  }
 ],
 "metadata": {
  "kernelspec": {
   "display_name": "base",
   "language": "python",
   "name": "python3"
  },
  "language_info": {
   "codemirror_mode": {
    "name": "ipython",
    "version": 3
   },
   "file_extension": ".py",
   "mimetype": "text/x-python",
   "name": "python",
   "nbconvert_exporter": "python",
   "pygments_lexer": "ipython3",
   "version": "3.12.7"
  }
 },
 "nbformat": 4,
 "nbformat_minor": 2
}
