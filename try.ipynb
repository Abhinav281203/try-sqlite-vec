{
 "cells": [
  {
   "cell_type": "markdown",
   "metadata": {},
   "source": [
    "## Using Virtual Tables"
   ]
  },
  {
   "cell_type": "code",
   "execution_count": 1,
   "metadata": {},
   "outputs": [],
   "source": [
    "import sqlite3\n",
    "import sqlite_vec\n",
    "\n",
    "db_path = \"/Users/abhinav/Desktop/shit/virtual_tables.db\"\n",
    "db = sqlite3.connect(db_path)\n",
    "db.enable_load_extension(True)\n",
    "sqlite_vec.load(db)\n",
    "db.enable_load_extension(False)\n"
   ]
  },
  {
   "cell_type": "code",
   "execution_count": 2,
   "metadata": {},
   "outputs": [
    {
     "data": {
      "text/plain": [
       "<sqlite3.Cursor at 0x103dfad40>"
      ]
     },
     "execution_count": 2,
     "metadata": {},
     "output_type": "execute_result"
    }
   ],
   "source": [
    "# Create table without any embeddings column\n",
    "# Create virtual tables for storing embeddings with vec0\n",
    "db.execute(\n",
    "    \"\"\"\n",
    "    CREATE TABLE goods (\n",
    "        row_id INT PRIMARY KEY,\n",
    "        Schedule VARCHAR(10),\n",
    "        Serial_No INT,\n",
    "        Chapter_Heading_Subheading_Tariff_Item TEXT,\n",
    "        Description_of_Goods TEXT,\n",
    "        CGST_Rate DECIMAL(5, 2),\n",
    "        SGST_UTGST_Rate DECIMAL(5, 2),\n",
    "        IGST_Rate DECIMAL(5, 2),\n",
    "        Compensation_Cess VARCHAR(10)\n",
    "    );\n",
    "    \"\"\"\n",
    ")"
   ]
  },
  {
   "cell_type": "code",
   "execution_count": 3,
   "metadata": {},
   "outputs": [],
   "source": [
    "items = [\n",
    "    (1, 'I', 1, '0202, 0203, 0204, 0205, 0206, 0207, 0208, 0209, 0210', 'All goods [other than fresh or chilled] pre-packaged and labelled.', 2.5, 2.5, 5.0, None),\n",
    "    (2, 'I', 2, '0303, 0304, 0305, 0306, 0307, 0308, 0309', 'All goods [other than fresh or chilled] pre-packaged and labelled.', 2.5, 2.5, 5.0, None),\n",
    "    (3, 'I', 3, None, '[Omitted]', None, None, None, None),\n",
    "    (4, 'I', 4, None, '[Omitted]', None, None, None, None),\n",
    "    (5, 'I', 5, None, '[Omitted', None, None, None, None),\n",
    "    (6, 'I', 6, None, '[Omitted]', None, None, None, None),\n",
    "    (7, 'I', 7, '0401', 'Ultra High Temperature (UHT) milk', 2.5, 2.5, 5.0, None),\n",
    "    (8, 'I', 8, '0402', 'Milk and cream, concentrated or containing added sugar or other sweetening matter, including skimmed milk powder, milk food for babies [other than condensed milk]', 2.5, 2.5, 5.0, None),\n",
    "    (9, 'I', 9, '0403', 'Yoghurt; Cream, kephir and other fermented or acidified milk and cream, whether or not concentrated or containing added sugar or other sweetening matter or flavored or containing added fruit, nuts or cocoa', 2.5, 2.5, 5.0, None)\n",
    "]\n",
    "\n",
    "from models import Row\n",
    "items = [Row(tuple=item) for item in items]"
   ]
  },
  {
   "cell_type": "code",
   "execution_count": 4,
   "metadata": {},
   "outputs": [],
   "source": [
    "from indexer import SQLiteVecIndexer\n",
    "\n",
    "indexer = SQLiteVecIndexer(db_path, using_virtual_table=True)\n",
    "indexer.insert_rows(items)"
   ]
  },
  {
   "cell_type": "code",
   "execution_count": null,
   "metadata": {},
   "outputs": [
    {
     "name": "stdout",
     "output_type": "stream",
     "text": [
      "(8, 'I', 8, '0402', 'Milk and cream, concentrated or containing added sugar or other sweetening matter, including skimmed milk powder, milk food for babies [other than condensed milk]', 2.5, 2.5, 5, None)\n",
      "(9, 'I', 9, '0403', 'Yoghurt; Cream, kephir and other fermented or acidified milk and cream, whether or not concentrated or containing added sugar or other sweetening matter or flavored or containing added fruit, nuts or cocoa', 2.5, 2.5, 5, None)\n",
      "(7, 'I', 7, '0401', 'Ultra High Temperature (UHT) milk', 2.5, 2.5, 5, None)\n"
     ]
    }
   ],
   "source": [
    "from retriever import SQLiteVecRetriever\n",
    "\n",
    "query = \"Give me about milk, cream, powder for babies\"\n",
    "retriever = SQLiteVecRetriever(db_path=db_path, using_virtual_table=True)\n",
    "results = retriever.retrieve(query)\n",
    "for i in results:\n",
    "    print(i)"
   ]
  },
  {
   "cell_type": "markdown",
   "metadata": {},
   "source": [
    "## Using Normal Tables (Manually)"
   ]
  },
  {
   "cell_type": "code",
   "execution_count": 6,
   "metadata": {},
   "outputs": [],
   "source": [
    "import sqlite3\n",
    "import sqlite_vec\n",
    "\n",
    "db_path = \"/Users/abhinav/Desktop/shit/normal_tables.db\"\n",
    "db = sqlite3.connect(db_path)\n",
    "db.enable_load_extension(True)\n",
    "sqlite_vec.load(db)\n",
    "db.enable_load_extension(False)"
   ]
  },
  {
   "cell_type": "code",
   "execution_count": 7,
   "metadata": {},
   "outputs": [
    {
     "data": {
      "text/plain": [
       "<sqlite3.Cursor at 0x1098262c0>"
      ]
     },
     "execution_count": 7,
     "metadata": {},
     "output_type": "execute_result"
    }
   ],
   "source": [
    "# Create table with embeddings column of type BLOB to store embeddings\n",
    "db.execute(\n",
    "    \"\"\"\n",
    "    CREATE TABLE goods (\n",
    "        row_id INT PRIMARY KEY,\n",
    "        Schedule VARCHAR(10),\n",
    "        Serial_No INT,\n",
    "        Chapter_Heading_Subheading_Tariff_Item TEXT,\n",
    "        Description_of_Goods TEXT,\n",
    "        CGST_Rate DECIMAL(5, 2),\n",
    "        SGST_UTGST_Rate DECIMAL(5, 2),\n",
    "        IGST_Rate DECIMAL(5, 2),\n",
    "        Compensation_Cess VARCHAR(10),\n",
    "        embeddings float[1536]\n",
    "        check(\n",
    "            typeof(embeddings) == 'blob'\n",
    "            and vec_length(embeddings) == 1536\n",
    "        )\n",
    "    );\n",
    "    \"\"\"\n",
    ")"
   ]
  },
  {
   "cell_type": "code",
   "execution_count": 8,
   "metadata": {},
   "outputs": [],
   "source": [
    "items = [\n",
    "    (1, 'I', 1, '0202, 0203, 0204, 0205, 0206, 0207, 0208, 0209, 0210', 'All goods [other than fresh or chilled] pre-packaged and labelled.', 2.5, 2.5, 5.0, None),\n",
    "    (2, 'I', 2, '0303, 0304, 0305, 0306, 0307, 0308, 0309', 'All goods [other than fresh or chilled] pre-packaged and labelled.', 2.5, 2.5, 5.0, None),\n",
    "    (3, 'I', 3, None, '[Omitted]', None, None, None, None),\n",
    "    (4, 'I', 4, None, '[Omitted]', None, None, None, None),\n",
    "    (5, 'I', 5, None, '[Omitted', None, None, None, None),\n",
    "    (6, 'I', 6, None, '[Omitted]', None, None, None, None),\n",
    "    (7, 'I', 7, '0401', 'Ultra High Temperature (UHT) milk', 2.5, 2.5, 5.0, None),\n",
    "    (8, 'I', 8, '0402', 'Milk and cream, concentrated or containing added sugar or other sweetening matter, including skimmed milk powder, milk food for babies [other than condensed milk]', 2.5, 2.5, 5.0, None),\n",
    "    (9, 'I', 9, '0403', 'Yoghurt; Cream, kephir and other fermented or acidified milk and cream, whether or not concentrated or containing added sugar or other sweetening matter or flavored or containing added fruit, nuts or cocoa', 2.5, 2.5, 5.0, None)\n",
    "]\n",
    "\n",
    "from models import Row\n",
    "items = [Row(tuple=item) for item in items]"
   ]
  },
  {
   "cell_type": "code",
   "execution_count": 9,
   "metadata": {},
   "outputs": [],
   "source": [
    "from indexer import SQLiteVecIndexer\n",
    "\n",
    "indexer = SQLiteVecIndexer(db_path, using_virtual_table=False)\n",
    "indexer.insert_rows(items)"
   ]
  },
  {
   "cell_type": "code",
   "execution_count": null,
   "metadata": {},
   "outputs": [
    {
     "name": "stdout",
     "output_type": "stream",
     "text": [
      "(8, 'I', 8, '0402', 'Milk and cream, concentrated or containing added sugar or other sweetening matter, including skimmed milk powder, milk food for babies [other than condensed milk]', 2.5, 2.5, 5, None)\n",
      "(9, 'I', 9, '0403', 'Yoghurt; Cream, kephir and other fermented or acidified milk and cream, whether or not concentrated or containing added sugar or other sweetening matter or flavored or containing added fruit, nuts or cocoa', 2.5, 2.5, 5, None)\n",
      "(7, 'I', 7, '0401', 'Ultra High Temperature (UHT) milk', 2.5, 2.5, 5, None)\n"
     ]
    }
   ],
   "source": [
    "from retriever import SQLiteVecRetriever\n",
    "\n",
    "query = \"Give me about milk, cream, powder for babies\"\n",
    "retriever = SQLiteVecRetriever(db_path, using_virtual_table=False)\n",
    "results = retriever.retrieve(query)\n",
    "for i in results:\n",
    "    print(i)"
   ]
  },
  {
   "cell_type": "code",
   "execution_count": null,
   "metadata": {},
   "outputs": [],
   "source": []
  }
 ],
 "metadata": {
  "kernelspec": {
   "display_name": "base",
   "language": "python",
   "name": "python3"
  },
  "language_info": {
   "codemirror_mode": {
    "name": "ipython",
    "version": 3
   },
   "file_extension": ".py",
   "mimetype": "text/x-python",
   "name": "python",
   "nbconvert_exporter": "python",
   "pygments_lexer": "ipython3",
   "version": "3.12.7"
  }
 },
 "nbformat": 4,
 "nbformat_minor": 2
}
